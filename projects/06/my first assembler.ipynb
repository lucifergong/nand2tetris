{
 "cells": [
  {
   "cell_type": "code",
   "execution_count": 1,
   "metadata": {},
   "outputs": [],
   "source": [
    "import re"
   ]
  },
  {
   "cell_type": "code",
   "execution_count": 2,
   "metadata": {},
   "outputs": [],
   "source": [
    "s=re.match(r'\\d{3}\\-\\d{8}','123-45123457')"
   ]
  },
  {
   "cell_type": "code",
   "execution_count": 3,
   "metadata": {},
   "outputs": [
    {
     "data": {
      "text/plain": [
       "<re.Match object; span=(0, 9), match='010-12345'>"
      ]
     },
     "execution_count": 3,
     "metadata": {},
     "output_type": "execute_result"
    }
   ],
   "source": [
    "re.match(r'^\\d{3}\\-\\d{3,8}$', '010-12345')"
   ]
  },
  {
   "cell_type": "code",
   "execution_count": 4,
   "metadata": {},
   "outputs": [],
   "source": [
    "q=re.match(r'^\\d{3}\\-\\d{3,8}$', '010 12345')"
   ]
  },
  {
   "cell_type": "code",
   "execution_count": 5,
   "metadata": {},
   "outputs": [
    {
     "name": "stdout",
     "output_type": "stream",
     "text": [
      "suceess\n"
     ]
    }
   ],
   "source": [
    "if re.match(r'\\d{3}\\-\\d{8}','123-45123457'):\n",
    "    print('suceess')\n",
    "else:\n",
    "    print('faile')"
   ]
  },
  {
   "cell_type": "code",
   "execution_count": 6,
   "metadata": {},
   "outputs": [
    {
     "data": {
      "text/plain": [
       "'123-45123457'"
      ]
     },
     "execution_count": 6,
     "metadata": {},
     "output_type": "execute_result"
    }
   ],
   "source": [
    "s.group(0)"
   ]
  },
  {
   "cell_type": "code",
   "execution_count": 7,
   "metadata": {},
   "outputs": [],
   "source": [
    "f=open('And.hdl','r')"
   ]
  },
  {
   "cell_type": "code",
   "execution_count": 8,
   "metadata": {},
   "outputs": [],
   "source": [
    "q=f.read()"
   ]
  },
  {
   "cell_type": "code",
   "execution_count": 9,
   "metadata": {},
   "outputs": [
    {
     "data": {
      "text/plain": [
       "'// This file is part of www.nand2tetris.org\\n// and the book \"The Elements of Computing Systems\"\\n// by Nisan and Schocken, MIT Press.\\n// File name: projects/01/And.hdl\\n\\n/**\\n * And gate: \\n * out = 1 if (a == 1 and b == 1)\\n *       0 otherwise\\n */\\n\\nCHIP And {\\n    IN  a, b;\\n    OUT out;\\n    PARTS:\\n    Nand(a=a,b=b,out=out1);\\n    Not(in=out1,out=out);\\n    // Put your code here:\\n}\\n'"
      ]
     },
     "execution_count": 9,
     "metadata": {},
     "output_type": "execute_result"
    }
   ],
   "source": [
    "q"
   ]
  },
  {
   "cell_type": "code",
   "execution_count": 75,
   "metadata": {},
   "outputs": [],
   "source": [
    "q1=q.split('\\n')"
   ]
  },
  {
   "cell_type": "code",
   "execution_count": 77,
   "metadata": {},
   "outputs": [
    {
     "data": {
      "text/plain": [
       "'// This file is part of www.nand2tetris.org'"
      ]
     },
     "execution_count": 77,
     "metadata": {},
     "output_type": "execute_result"
    }
   ],
   "source": [
    "q1[0]"
   ]
  },
  {
   "cell_type": "code",
   "execution_count": 28,
   "metadata": {},
   "outputs": [
    {
     "ename": "AttributeError",
     "evalue": "'str' object has no attribute 'sub'",
     "output_type": "error",
     "traceback": [
      "\u001b[1;31m---------------------------------------------------------------------------\u001b[0m",
      "\u001b[1;31mAttributeError\u001b[0m                            Traceback (most recent call last)",
      "\u001b[1;32m<ipython-input-28-2fa076a11189>\u001b[0m in \u001b[0;36m<module>\u001b[1;34m\u001b[0m\n\u001b[1;32m----> 1\u001b[1;33m \u001b[0mq1\u001b[0m\u001b[1;33m[\u001b[0m\u001b[1;36m1\u001b[0m\u001b[1;33m]\u001b[0m\u001b[1;33m.\u001b[0m\u001b[0msub\u001b[0m\u001b[1;33m(\u001b[0m\u001b[1;34m' '\u001b[0m\u001b[1;33m)\u001b[0m\u001b[1;33m\u001b[0m\u001b[1;33m\u001b[0m\u001b[0m\n\u001b[0m",
      "\u001b[1;31mAttributeError\u001b[0m: 'str' object has no attribute 'sub'"
     ]
    }
   ],
   "source": [
    "q1[1].sub(' ')"
   ]
  },
  {
   "cell_type": "code",
   "execution_count": 36,
   "metadata": {},
   "outputs": [],
   "source": [
    "_comment = re.compile('//.*$')"
   ]
  },
  {
   "cell_type": "code",
   "execution_count": 40,
   "metadata": {},
   "outputs": [
    {
     "ename": "TypeError",
     "evalue": "expected string or bytes-like object",
     "output_type": "error",
     "traceback": [
      "\u001b[1;31m---------------------------------------------------------------------------\u001b[0m",
      "\u001b[1;31mTypeError\u001b[0m                                 Traceback (most recent call last)",
      "\u001b[1;32m<ipython-input-40-8868a1fe2085>\u001b[0m in \u001b[0;36m<module>\u001b[1;34m\u001b[0m\n\u001b[1;32m----> 1\u001b[1;33m \u001b[0mq2\u001b[0m\u001b[1;33m=\u001b[0m\u001b[0m_comment\u001b[0m\u001b[1;33m.\u001b[0m\u001b[0msub\u001b[0m\u001b[1;33m(\u001b[0m\u001b[1;34m''\u001b[0m\u001b[1;33m,\u001b[0m\u001b[0mq1\u001b[0m\u001b[1;33m)\u001b[0m\u001b[1;33m\u001b[0m\u001b[1;33m\u001b[0m\u001b[0m\n\u001b[0m",
      "\u001b[1;31mTypeError\u001b[0m: expected string or bytes-like object"
     ]
    }
   ],
   "source": [
    "q2=_comment.sub('',q1)"
   ]
  },
  {
   "cell_type": "code",
   "execution_count": 2,
   "metadata": {},
   "outputs": [],
   "source": [
    "class assumbler():\n",
    "    def __init__(self):\n",
    "        self.bultinaddress= {'SP':0, 'LCL':1, 'ARG':2, 'THIS':3, 'THAT':4, \n",
    "                        'R0':0, 'R1':1, 'R2':2, 'R3':3, 'R4':4, 'R5':5,\n",
    "                        'R6':6, 'R7':7, 'R8':8, 'R9':9, 'R10':10, 'R11':11,\n",
    "                        'R12':12, 'R13':13, 'R14':14, 'R15':15, \n",
    "                        'SCREEN':16384, 'KBD':24576}\n",
    "        self.readyaddress=16\n",
    "    def handle_label(self,u):\n",
    "        linenumber=0\n",
    "        for i in u:\n",
    "            if i[0]=='(' and i[-1] ==')':\n",
    "                o=i[1:-1]\n",
    "                print(linenumber)\n",
    "                if o in self.bultinaddress.keys():\n",
    "                    raise Exception(\"Assembler: attempted to add already-existing label: \" + line)\n",
    "                self.bultinaddress[o]=linenumber\n",
    "                continue\n",
    "            linenumber+=1    \n",
    "    def denum(self,q1):\n",
    "        if q1<0 or q1>2**15:\n",
    "            raise Exception(\"Assembler: out-of-range assignment to A!:  \" + q1)\n",
    "        q=bin(q1)\n",
    "        q=q[2:]\n",
    "        numdigits = min(15, len(q))\n",
    "        numzeros = 16-numdigits\n",
    "        bincmd='0'*numzeros + q[-numdigits:]\n",
    "        return bincmd\n",
    "    \n",
    "    def a_expression(self,s):\n",
    "        if s[1:].isdigit():\n",
    "            w=int(s[1:])\n",
    "            addr=self.denum(w)\n",
    "        elif self.islegal(s[1:]):\n",
    "            e=s[1:]\n",
    "            \n",
    "            if e not in self.bultinaddress.keys():\n",
    "                self.bultinaddress[e]=self.readyaddress\n",
    "                self.readyaddress+=1\n",
    "            addr=self.denum(int(self.bultinaddress[e]))\n",
    "        else:\n",
    "            raise Exception(\"Assembler: illegal variable name:  \" + line)\n",
    "        return addr   \n",
    "    \n",
    "    def c_cut(self,y):\n",
    "        m=-1\n",
    "        n=len(y)\n",
    "        dest=None\n",
    "        comp=None\n",
    "        jump=None\n",
    "        if '=' in y:\n",
    "            m=y.index('=')\n",
    "            dest=y[:m]\n",
    "        if ';' in y:\n",
    "            n=y.index(';')\n",
    "            jump=y[n+1:]\n",
    "        comp=y[m+1:n]\n",
    "       # print(m,n)\n",
    "        return dest,comp,jump\n",
    "    def handle_dest(self, dest):\n",
    "        # TODO: Ignores poorly-formed dest commands\n",
    "        if dest is None:\n",
    "            destcmd = '000'\n",
    "        else:\n",
    "            destcmd = ''\n",
    "            if 'A' in dest:\n",
    "                destcmd = destcmd + '1'\n",
    "            else:\n",
    "                destcmd = destcmd + '0'\n",
    "            if 'D' in dest:\n",
    "                destcmd = destcmd + '1'\n",
    "            else:\n",
    "                destcmd = destcmd + '0'\n",
    "            if 'M' in dest:\n",
    "                destcmd = destcmd + '1'\n",
    "            else:\n",
    "                destcmd = destcmd + '0'\n",
    "        return destcmd\n",
    "\n",
    "    # parses jump command - raises Exception if bad command\n",
    "    def handle_jump(self, jump):\n",
    "        if jump is None:\n",
    "            jumpcmd = '000'\n",
    "        elif jump == 'JGT':\n",
    "            jumpcmd = '001'\n",
    "        elif jump == 'JEQ':\n",
    "            jumpcmd = '010'\n",
    "        elif jump == 'JGE':\n",
    "            jumpcmd = '011'\n",
    "        elif jump == 'JLT':\n",
    "            jumpcmd = '100'\n",
    "        elif jump == 'JNE':\n",
    "            jumpcmd = '101'\n",
    "        elif jump == 'JLE':\n",
    "            jumpcmd = '110'\n",
    "        elif jump == 'JMP':\n",
    "            jumpcmd = '111'\n",
    "        else:\n",
    "            raise Exception(\"Assembler: Illegal jump command: \" + jump)\n",
    "        return jumpcmd\n",
    "    \n",
    "    # there are a limited number of allowed calculations ...\n",
    "    # so, effectively do a switch on them. This feels dirty.\n",
    "    def handle_comp(self, calc):\n",
    "        if calc == '0':\n",
    "            calccmd = '0101010'\n",
    "        elif calc == '1':\n",
    "            calccmd = '0111111'\n",
    "        elif calc == '-1':\n",
    "            calccmd = '0111010'\n",
    "        elif calc == 'D':\n",
    "            calccmd = '0001100'\n",
    "        elif calc == 'A':\n",
    "            calccmd = '0110000'\n",
    "        elif calc == '!D':\n",
    "            calccmd = '0001101'\n",
    "        elif calc == '!A':\n",
    "            calccmd = '0110001'\n",
    "        elif calc == '-D':\n",
    "            calccmd = '0001111'\n",
    "        elif calc == '-A':\n",
    "            calccmd = '0110011'\n",
    "        elif calc == 'D+1' or calc == '1+D':\n",
    "            calccmd = '0011111'\n",
    "        elif calc == 'A+1' or calc == '1+A':\n",
    "            calccmd = '0110111'\n",
    "        elif calc == 'D-1':\n",
    "            calccmd = '0001110'\n",
    "        elif calc == 'A-1':\n",
    "            calccmd = '0110010'\n",
    "        elif calc == 'D+A' or calc == 'A+D':\n",
    "            calccmd = '0000010'\n",
    "        elif calc == 'D-A':\n",
    "            calccmd = '0010011'\n",
    "        elif calc == 'A-D':\n",
    "            calccmd = '0000111'\n",
    "        elif calc == 'D&A' or calc == 'A&D':\n",
    "            calccmd = '0000000'\n",
    "        elif calc == 'D|A' or calc == 'A|D':\n",
    "            calccmd = '0010101'\n",
    "        elif calc == 'M':\n",
    "            calccmd = '1110000'\n",
    "        elif calc == '!M':\n",
    "            calccmd = '1110001'\n",
    "        elif calc == '-M':\n",
    "            calccmd = '1110011'\n",
    "        elif calc == 'M+1' or calc == '1+M':\n",
    "            calccmd = '1110111'\n",
    "        elif calc == 'M-1':\n",
    "            calccmd = '1110010'\n",
    "        elif calc == 'D+M' or calc == 'M+D':\n",
    "            calccmd = '1000010'\n",
    "        elif calc == 'D-M':\n",
    "            calccmd = '1010011'\n",
    "        elif calc == 'M-D':\n",
    "            calccmd = '1000111'\n",
    "        elif calc == 'D&M' or calc == 'M&D':\n",
    "            calccmd = '1000000'\n",
    "        elif calc == 'D|M' or calc == 'M|D':\n",
    "            calccmd = '1010101'\n",
    "        else:\n",
    "            raise Exception(\"Assembler: illegal calculation: \" + calc)\n",
    "        return calccmd\n",
    "    def islegal(self, str):\n",
    "        if str[0].isdigit():\n",
    "            return False\n",
    "        for sym in ['-', '*', '+', '/', '&', '|', '!']:\n",
    "            if sym in str:\n",
    "                return False\n",
    "        else:\n",
    "            return True\n",
    "          \n",
    "    def c_expression(self,t):\n",
    "        dest,comp,jump=self.c_cut(t)\n",
    "      #  print(comp,type(comp),len(comp))\n",
    "        jumpcode=self.handle_jump(jump)\n",
    "        compcode=self.handle_comp(comp)\n",
    "        destcode=self.handle_dest(dest)\n",
    "        return '111'+compcode+destcode+jumpcode\n",
    "def clean(q):\n",
    "    out=[]\n",
    "    for i in q:\n",
    "        if '/' in i:\n",
    "            m=i.index('/')\n",
    "            i=i[:m]\n",
    "        if i=='':\n",
    "            continue\n",
    "        i=i.replace(\" \", \"\")\n",
    "        out.append(i)\n",
    "    return out  "
   ]
  },
  {
   "cell_type": "code",
   "execution_count": 3,
   "metadata": {},
   "outputs": [
    {
     "ename": "NameError",
     "evalue": "name 'myassembler' is not defined",
     "output_type": "error",
     "traceback": [
      "\u001b[1;31m---------------------------------------------------------------------------\u001b[0m",
      "\u001b[1;31mNameError\u001b[0m                                 Traceback (most recent call last)",
      "\u001b[1;32m~\\AppData\\Local\\Temp/ipykernel_9148/2865073119.py\u001b[0m in \u001b[0;36m<module>\u001b[1;34m\u001b[0m\n\u001b[1;32m----> 1\u001b[1;33m \u001b[0mmyassembler\u001b[0m\u001b[1;33m.\u001b[0m\u001b[0mbultinaddress\u001b[0m\u001b[1;33m\u001b[0m\u001b[1;33m\u001b[0m\u001b[0m\n\u001b[0m",
      "\u001b[1;31mNameError\u001b[0m: name 'myassembler' is not defined"
     ]
    }
   ],
   "source": [
    "myassembler.bultinaddress"
   ]
  },
  {
   "cell_type": "code",
   "execution_count": 9,
   "metadata": {},
   "outputs": [],
   "source": [
    "def main():\n",
    "#    a=sys.argv\n",
    "#    if len(a)!=3:\n",
    "#        raise Exception(\"two input parameter\")\n",
    "#    infile=sys.argv[1]\n",
    "#    outfile=sys.argv[2]\n",
    "    infile='Add.asm'\n",
    "    outfile='Add.hack'\n",
    "    myassembler = assumbler()\n",
    "    f=open(infile,'r')\n",
    "    q=f.read()\n",
    "    q=q.split('\\n')\n",
    "    q=clean(q)\n",
    "    #print(q)\n",
    "    myassembler.handle_label(q)\n",
    "    print(myassembler.bultinaddress)\n",
    "    f1=open(outfile,'w')\n",
    "    for i in q:\n",
    "        if i[0]=='(' and i[-1] ==')':\n",
    "            continue\n",
    "        if i[0]=='@':\n",
    "            p=myassembler.a_expression(i)\n",
    "        else:     \n",
    "            p=myassembler.c_expression(i)\n",
    "        f1.write(p+'\\n')\n",
    "    f.close()\n",
    "    f1.close()"
   ]
  },
  {
   "cell_type": "code",
   "execution_count": 10,
   "metadata": {},
   "outputs": [
    {
     "name": "stdout",
     "output_type": "stream",
     "text": [
      "{'SP': 0, 'LCL': 1, 'ARG': 2, 'THIS': 3, 'THAT': 4, 'R0': 0, 'R1': 1, 'R2': 2, 'R3': 3, 'R4': 4, 'R5': 5, 'R6': 6, 'R7': 7, 'R8': 8, 'R9': 9, 'R10': 10, 'R11': 11, 'R12': 12, 'R13': 13, 'R14': 14, 'R15': 15, 'SCREEN': 16384, 'KBD': 24576}\n"
     ]
    }
   ],
   "source": [
    "main()"
   ]
  },
  {
   "cell_type": "code",
   "execution_count": 299,
   "metadata": {},
   "outputs": [],
   "source": [
    "qq=bin(10)"
   ]
  },
  {
   "cell_type": "code",
   "execution_count": 204,
   "metadata": {},
   "outputs": [],
   "source": [
    "a=['dadada','fqqq','ngcf']"
   ]
  },
  {
   "cell_type": "code",
   "execution_count": 206,
   "metadata": {},
   "outputs": [
    {
     "data": {
      "text/plain": [
       "['dadada', 'fqqq', 'ngcf']"
      ]
     },
     "execution_count": 206,
     "metadata": {},
     "output_type": "execute_result"
    }
   ],
   "source": [
    "a"
   ]
  },
  {
   "cell_type": "code",
   "execution_count": 207,
   "metadata": {},
   "outputs": [],
   "source": [
    "del a[0]"
   ]
  },
  {
   "cell_type": "code",
   "execution_count": 209,
   "metadata": {},
   "outputs": [],
   "source": [
    "a.remove('fqqq')"
   ]
  },
  {
   "cell_type": "code",
   "execution_count": 210,
   "metadata": {},
   "outputs": [
    {
     "data": {
      "text/plain": [
       "['ngcf']"
      ]
     },
     "execution_count": 210,
     "metadata": {},
     "output_type": "execute_result"
    }
   ],
   "source": [
    "a"
   ]
  },
  {
   "cell_type": "code",
   "execution_count": 268,
   "metadata": {},
   "outputs": [],
   "source": [
    "infile='Fill.asm'\n",
    "outfile='Fill.hack'\n",
    "myassembler = assumbler()\n",
    "f=open(infile,'r')\n",
    "q=f.read()\n",
    "q=q.split('\\n')\n",
    "q=clean(q)\n",
    "#print(q)\n",
    "myassembler.handle_label(q)\n",
    "#f1=open(outfile,'w')\n",
    "#for i in q:\n",
    "#    if i[0]=='(' and i[-1] ==')':\n",
    "#        continue\n",
    "#    if i[0]=='@':\n",
    "#        p=myassembler.a_expression(i)\n",
    "#    else:     \n",
    "#        p=myassembler.c_expression(i)\n",
    "#    f1.write(p+'\\n')\n",
    "#f.close()\n",
    "#f1.close()"
   ]
  }
 ],
 "metadata": {
  "kernelspec": {
   "display_name": "Python 3 (ipykernel)",
   "language": "python",
   "name": "python3"
  },
  "language_info": {
   "codemirror_mode": {
    "name": "ipython",
    "version": 3
   },
   "file_extension": ".py",
   "mimetype": "text/x-python",
   "name": "python",
   "nbconvert_exporter": "python",
   "pygments_lexer": "ipython3",
   "version": "3.8.5"
  }
 },
 "nbformat": 4,
 "nbformat_minor": 4
}
